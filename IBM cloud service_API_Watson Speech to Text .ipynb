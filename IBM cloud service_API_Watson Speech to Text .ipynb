{
 "cells": [
  {
   "cell_type": "markdown",
   "metadata": {},
   "source": [
    "<h1>IBM_API_Watson \"Speech to Text\" </h1>\n"
   ]
  },
  {
   "cell_type": "markdown",
   "metadata": {},
   "source": [
    "https://cloud.ibm.com/\n",
    "\n",
    "Use a \"Speech to Text API\" to convert an audio file (English) to text (https://cloud.ibm.com/apidocs/speech-to-text?code=python).\n",
    "\n",
    "Obs.: The API keys are obtained at https://cloud.ibm.com/login?redirect=%2Fresources\n",
    "\n",
    "@author: Mariana R. Barros"
   ]
  },
  {
   "cell_type": "code",
   "execution_count": 1,
   "metadata": {},
   "outputs": [
    {
     "name": "stdout",
     "output_type": "stream",
     "text": [
      "Requirement already satisfied: PyJWT==1.7.1 in /Users/marianarodriguesbarros/opt/anaconda3/lib/python3.7/site-packages (1.7.1)\n",
      "Requirement already satisfied: ibm_watson in /Users/marianarodriguesbarros/opt/anaconda3/lib/python3.7/site-packages (5.0.2)\n",
      "Requirement already satisfied: wget in /Users/marianarodriguesbarros/opt/anaconda3/lib/python3.7/site-packages (3.2)\n",
      "Requirement already satisfied: requests<3.0,>=2.0 in /Users/marianarodriguesbarros/opt/anaconda3/lib/python3.7/site-packages (from ibm_watson) (2.22.0)\n",
      "Requirement already satisfied: websocket-client==0.48.0 in /Users/marianarodriguesbarros/opt/anaconda3/lib/python3.7/site-packages (from ibm_watson) (0.48.0)\n",
      "Requirement already satisfied: python-dateutil>=2.5.3 in /Users/marianarodriguesbarros/opt/anaconda3/lib/python3.7/site-packages (from ibm_watson) (2.8.1)\n",
      "Requirement already satisfied: ibm-cloud-sdk-core==1.7.3 in /Users/marianarodriguesbarros/opt/anaconda3/lib/python3.7/site-packages (from ibm_watson) (1.7.3)\n",
      "Requirement already satisfied: six in /Users/marianarodriguesbarros/opt/anaconda3/lib/python3.7/site-packages (from websocket-client==0.48.0->ibm_watson) (1.14.0)\n",
      "Requirement already satisfied: idna<2.9,>=2.5 in /Users/marianarodriguesbarros/opt/anaconda3/lib/python3.7/site-packages (from requests<3.0,>=2.0->ibm_watson) (2.8)\n",
      "Requirement already satisfied: certifi>=2017.4.17 in /Users/marianarodriguesbarros/opt/anaconda3/lib/python3.7/site-packages (from requests<3.0,>=2.0->ibm_watson) (2019.11.28)\n",
      "Requirement already satisfied: urllib3!=1.25.0,!=1.25.1,<1.26,>=1.21.1 in /Users/marianarodriguesbarros/opt/anaconda3/lib/python3.7/site-packages (from requests<3.0,>=2.0->ibm_watson) (1.25.8)\n",
      "Requirement already satisfied: chardet<3.1.0,>=3.0.2 in /Users/marianarodriguesbarros/opt/anaconda3/lib/python3.7/site-packages (from requests<3.0,>=2.0->ibm_watson) (3.0.4)\n"
     ]
    }
   ],
   "source": [
    "#Installing Watson library \n",
    "!pip install PyJWT==1.7.1 ibm_watson wget"
   ]
  },
  {
   "cell_type": "markdown",
   "metadata": {},
   "source": [
    "<h2>Watson Speech to Text</h2>\n"
   ]
  },
  {
   "cell_type": "code",
   "execution_count": 1,
   "metadata": {},
   "outputs": [],
   "source": [
    "# Importing \"SpeechToTextV1\" from \"ibm_watson\"\n",
    "from ibm_watson import SpeechToTextV1 \n",
    "import json\n",
    "from ibm_cloud_sdk_core.authenticators import IAMAuthenticator"
   ]
  },
  {
   "cell_type": "code",
   "execution_count": 2,
   "metadata": {},
   "outputs": [],
   "source": [
    "#Use the url provided at the service credentials.\n",
    "url_st = \"\" #insert your credentials here"
   ]
  },
  {
   "cell_type": "code",
   "execution_count": 3,
   "metadata": {},
   "outputs": [],
   "source": [
    "#API key provided at the service credentials.\n",
    "apikey_st = \"\" #insert your credentials here"
   ]
  },
  {
   "cell_type": "code",
   "execution_count": 4,
   "metadata": {},
   "outputs": [
    {
     "data": {
      "text/plain": [
       "<ibm_watson.speech_to_text_v1_adapter.SpeechToTextV1Adapter at 0x7f9feb895950>"
      ]
     },
     "execution_count": 4,
     "metadata": {},
     "output_type": "execute_result"
    }
   ],
   "source": [
    "#Creating a Speech To Text Adapter object, where the parameters are the endpoint and API key.\n",
    "authenticator = IAMAuthenticator(apikey_st)\n",
    "st = SpeechToTextV1(authenticator=authenticator)\n",
    "st.set_service_url(url_st)\n",
    "st"
   ]
  },
  {
   "cell_type": "markdown",
   "metadata": {},
   "source": [
    "Sound sample: <a href=\"https://soundbible.com/1360-Obama-State-Of-The-Union-2010.html\">Obama State Of The Union 2010</a>, from Soundbible:"
   ]
  },
  {
   "cell_type": "code",
   "execution_count": 5,
   "metadata": {},
   "outputs": [],
   "source": [
    "# File we wish to convert to text.\n",
    "file='Obama State Of The Union 2010-SoundBible.com-1976559822.mp3'"
   ]
  },
  {
   "cell_type": "code",
   "execution_count": 7,
   "metadata": {},
   "outputs": [],
   "source": [
    "#Creating the file object wav:\n",
    "with open(file, mode=\"rb\")  as wav:\n",
    "    response = st.recognize(audio=wav, content_type='audio/mp3')"
   ]
  },
  {
   "cell_type": "markdown",
   "metadata": {},
   "source": [
    "<p>The attribute result contains a dictionary that includes the translation:</p>\n"
   ]
  },
  {
   "cell_type": "code",
   "execution_count": 8,
   "metadata": {},
   "outputs": [],
   "source": [
    "#Attribute result: contains a dictionary that includes the translation.\n",
    "response.result"
   ]
  },
  {
   "cell_type": "code",
   "execution_count": 12,
   "metadata": {},
   "outputs": [
    {
     "name": "stderr",
     "output_type": "stream",
     "text": [
      "/Users/marianarodriguesbarros/opt/anaconda3/lib/python3.7/site-packages/ipykernel_launcher.py:3: FutureWarning: pandas.io.json.json_normalize is deprecated, use pandas.json_normalize instead\n",
      "  This is separate from the ipykernel package so we can avoid doing imports until\n"
     ]
    },
    {
     "data": {
      "text/html": [
       "<div>\n",
       "<style scoped>\n",
       "    .dataframe tbody tr th:only-of-type {\n",
       "        vertical-align: middle;\n",
       "    }\n",
       "\n",
       "    .dataframe tbody tr th {\n",
       "        vertical-align: top;\n",
       "    }\n",
       "\n",
       "    .dataframe thead th {\n",
       "        text-align: right;\n",
       "    }\n",
       "</style>\n",
       "<table border=\"1\" class=\"dataframe\">\n",
       "  <thead>\n",
       "    <tr style=\"text-align: right;\">\n",
       "      <th></th>\n",
       "      <th>transcript</th>\n",
       "      <th>confidence</th>\n",
       "    </tr>\n",
       "  </thead>\n",
       "  <tbody>\n",
       "    <tr>\n",
       "      <th>0</th>\n",
       "      <td>in the end</td>\n",
       "      <td>0.87</td>\n",
       "    </tr>\n",
       "    <tr>\n",
       "      <th>1</th>\n",
       "      <td>it's our ideals</td>\n",
       "      <td>0.95</td>\n",
       "    </tr>\n",
       "    <tr>\n",
       "      <th>2</th>\n",
       "      <td>our values that built America</td>\n",
       "      <td>0.82</td>\n",
       "    </tr>\n",
       "    <tr>\n",
       "      <th>3</th>\n",
       "      <td>values that allowed us to forge a nation made ...</td>\n",
       "      <td>0.90</td>\n",
       "    </tr>\n",
       "    <tr>\n",
       "      <th>4</th>\n",
       "      <td>values that drive our citizens still</td>\n",
       "      <td>0.86</td>\n",
       "    </tr>\n",
       "    <tr>\n",
       "      <th>5</th>\n",
       "      <td>everyday Americans meet their responsibilities...</td>\n",
       "      <td>0.92</td>\n",
       "    </tr>\n",
       "    <tr>\n",
       "      <th>6</th>\n",
       "      <td>time and again they lend a hand to their neigh...</td>\n",
       "      <td>0.93</td>\n",
       "    </tr>\n",
       "    <tr>\n",
       "      <th>7</th>\n",
       "      <td>they take pride in their lives</td>\n",
       "      <td>0.68</td>\n",
       "    </tr>\n",
       "    <tr>\n",
       "      <th>8</th>\n",
       "      <td>and our generous in spirit</td>\n",
       "      <td>0.72</td>\n",
       "    </tr>\n",
       "    <tr>\n",
       "      <th>9</th>\n",
       "      <td>these are Republican values %HESITATION democr...</td>\n",
       "      <td>0.95</td>\n",
       "    </tr>\n",
       "    <tr>\n",
       "      <th>10</th>\n",
       "      <td>business values are labor values</td>\n",
       "      <td>0.97</td>\n",
       "    </tr>\n",
       "    <tr>\n",
       "      <th>11</th>\n",
       "      <td>%HESITATION can values</td>\n",
       "      <td>0.73</td>\n",
       "    </tr>\n",
       "    <tr>\n",
       "      <th>12</th>\n",
       "      <td>unfortunately too many of our citizens have lo...</td>\n",
       "      <td>0.98</td>\n",
       "    </tr>\n",
       "    <tr>\n",
       "      <th>13</th>\n",
       "      <td>but our biggest institutions</td>\n",
       "      <td>0.92</td>\n",
       "    </tr>\n",
       "    <tr>\n",
       "      <th>14</th>\n",
       "      <td>our corporations</td>\n",
       "      <td>0.98</td>\n",
       "    </tr>\n",
       "    <tr>\n",
       "      <th>15</th>\n",
       "      <td>our media</td>\n",
       "      <td>0.96</td>\n",
       "    </tr>\n",
       "    <tr>\n",
       "      <th>16</th>\n",
       "      <td>and yes our government</td>\n",
       "      <td>0.98</td>\n",
       "    </tr>\n",
       "    <tr>\n",
       "      <th>17</th>\n",
       "      <td>still reflect the same values</td>\n",
       "      <td>0.89</td>\n",
       "    </tr>\n",
       "    <tr>\n",
       "      <th>18</th>\n",
       "      <td>each of these institutions are full of honorab...</td>\n",
       "      <td>0.96</td>\n",
       "    </tr>\n",
       "    <tr>\n",
       "      <th>19</th>\n",
       "      <td>but each time I see your reward himself for fa...</td>\n",
       "      <td>0.80</td>\n",
       "    </tr>\n",
       "    <tr>\n",
       "      <th>20</th>\n",
       "      <td>or banker puts the rest of us at risk for his ...</td>\n",
       "      <td>0.79</td>\n",
       "    </tr>\n",
       "    <tr>\n",
       "      <th>21</th>\n",
       "      <td>people's doubts were up</td>\n",
       "      <td>0.85</td>\n",
       "    </tr>\n",
       "    <tr>\n",
       "      <th>22</th>\n",
       "      <td>each time obvious game the system or politicia...</td>\n",
       "      <td>0.83</td>\n",
       "    </tr>\n",
       "    <tr>\n",
       "      <th>23</th>\n",
       "      <td>we lose faith</td>\n",
       "      <td>0.72</td>\n",
       "    </tr>\n",
       "    <tr>\n",
       "      <th>24</th>\n",
       "      <td>the more the TV pundits reduce serious debates...</td>\n",
       "      <td>0.86</td>\n",
       "    </tr>\n",
       "    <tr>\n",
       "      <th>25</th>\n",
       "      <td>big issues in the sound bites</td>\n",
       "      <td>0.87</td>\n",
       "    </tr>\n",
       "    <tr>\n",
       "      <th>26</th>\n",
       "      <td>our citizens turn away</td>\n",
       "      <td>0.85</td>\n",
       "    </tr>\n",
       "    <tr>\n",
       "      <th>27</th>\n",
       "      <td>no wonder there's so much cynicism after</td>\n",
       "      <td>0.79</td>\n",
       "    </tr>\n",
       "    <tr>\n",
       "      <th>28</th>\n",
       "      <td>no wonder there's so much disappointment</td>\n",
       "      <td>0.78</td>\n",
       "    </tr>\n",
       "  </tbody>\n",
       "</table>\n",
       "</div>"
      ],
      "text/plain": [
       "                                           transcript  confidence\n",
       "0                                         in the end         0.87\n",
       "1                                    it's our ideals         0.95\n",
       "2                      our values that built America         0.82\n",
       "3   values that allowed us to forge a nation made ...        0.90\n",
       "4               values that drive our citizens still         0.86\n",
       "5   everyday Americans meet their responsibilities...        0.92\n",
       "6   time and again they lend a hand to their neigh...        0.93\n",
       "7                     they take pride in their lives         0.68\n",
       "8                         and our generous in spirit         0.72\n",
       "9   these are Republican values %HESITATION democr...        0.95\n",
       "10                  business values are labor values         0.97\n",
       "11                            %HESITATION can values         0.73\n",
       "12  unfortunately too many of our citizens have lo...        0.98\n",
       "13                      but our biggest institutions         0.92\n",
       "14                                  our corporations         0.98\n",
       "15                                         our media         0.96\n",
       "16                            and yes our government         0.98\n",
       "17                     still reflect the same values         0.89\n",
       "18  each of these institutions are full of honorab...        0.96\n",
       "19  but each time I see your reward himself for fa...        0.80\n",
       "20  or banker puts the rest of us at risk for his ...        0.79\n",
       "21                           people's doubts were up         0.85\n",
       "22  each time obvious game the system or politicia...        0.83\n",
       "23                                     we lose faith         0.72\n",
       "24  the more the TV pundits reduce serious debates...        0.86\n",
       "25                     big issues in the sound bites         0.87\n",
       "26                            our citizens turn away         0.85\n",
       "27          no wonder there's so much cynicism after         0.79\n",
       "28          no wonder there's so much disappointment         0.78"
      ]
     },
     "execution_count": 12,
     "metadata": {},
     "output_type": "execute_result"
    }
   ],
   "source": [
    "from pandas.io.json import json_normalize\n",
    "\n",
    "json_normalize(response.result['results'],\"alternatives\")"
   ]
  },
  {
   "cell_type": "code",
   "execution_count": 13,
   "metadata": {},
   "outputs": [
    {
     "data": {
      "text/plain": [
       "<ibm_cloud_sdk_core.detailed_response.DetailedResponse at 0x7fe22e380490>"
      ]
     },
     "execution_count": 13,
     "metadata": {},
     "output_type": "execute_result"
    }
   ],
   "source": [
    "response"
   ]
  },
  {
   "cell_type": "markdown",
   "metadata": {},
   "source": [
    "<p>We can obtain the recognized text and assign it to the variable <code>recognized_text</code>:</p>\n"
   ]
  },
  {
   "cell_type": "code",
   "execution_count": 14,
   "metadata": {},
   "outputs": [
    {
     "data": {
      "text/plain": [
       "str"
      ]
     },
     "execution_count": 14,
     "metadata": {},
     "output_type": "execute_result"
    }
   ],
   "source": [
    "#Obtaining the recognized text and assigning it to the variable recognized_text\n",
    "recognized_text=response.result['results'][0][\"alternatives\"][0][\"transcript\"]\n",
    "type(recognized_text)"
   ]
  },
  {
   "cell_type": "code",
   "execution_count": 105,
   "metadata": {},
   "outputs": [
    {
     "name": "stderr",
     "output_type": "stream",
     "text": [
      "/Users/marianarodriguesbarros/opt/anaconda3/lib/python3.7/site-packages/ipykernel_launcher.py:1: FutureWarning: pandas.io.json.json_normalize is deprecated, use pandas.json_normalize instead\n",
      "  \"\"\"Entry point for launching an IPython kernel.\n"
     ]
    },
    {
     "data": {
      "text/plain": [
       "0                                           in the end \n",
       "1                                      it's our ideals \n",
       "2                        our values that built America \n",
       "3     values that allowed us to forge a nation made ...\n",
       "4                 values that drive our citizens still \n",
       "5     everyday Americans meet their responsibilities...\n",
       "6     time and again they lend a hand to their neigh...\n",
       "7                       they take pride in their lives \n",
       "8                           and our generous in spirit \n",
       "9     these are Republican values %HESITATION democr...\n",
       "10                    business values are labor values \n",
       "11                              %HESITATION can values \n",
       "12    unfortunately too many of our citizens have lo...\n",
       "13                        but our biggest institutions \n",
       "14                                    our corporations \n",
       "15                                           our media \n",
       "16                              and yes our government \n",
       "17                       still reflect the same values \n",
       "18    each of these institutions are full of honorab...\n",
       "19    but each time I see your reward himself for fa...\n",
       "20    or banker puts the rest of us at risk for his ...\n",
       "21                             people's doubts were up \n",
       "22    each time obvious game the system or politicia...\n",
       "23                                       we lose faith \n",
       "24    the more the TV pundits reduce serious debates...\n",
       "25                       big issues in the sound bites \n",
       "26                              our citizens turn away \n",
       "27            no wonder there's so much cynicism after \n",
       "28            no wonder there's so much disappointment \n",
       "Name: transcript, dtype: object"
      ]
     },
     "execution_count": 105,
     "metadata": {},
     "output_type": "execute_result"
    }
   ],
   "source": [
    "df = json_normalize(response.result['results'],\"alternatives\")\n",
    "df['transcript']"
   ]
  },
  {
   "cell_type": "code",
   "execution_count": null,
   "metadata": {},
   "outputs": [],
   "source": []
  }
 ],
 "metadata": {
  "kernelspec": {
   "display_name": "Python 3",
   "language": "python",
   "name": "python3"
  },
  "language_info": {
   "codemirror_mode": {
    "name": "ipython",
    "version": 3
   },
   "file_extension": ".py",
   "mimetype": "text/x-python",
   "name": "python",
   "nbconvert_exporter": "python",
   "pygments_lexer": "ipython3",
   "version": "3.7.6"
  }
 },
 "nbformat": 4,
 "nbformat_minor": 4
}
